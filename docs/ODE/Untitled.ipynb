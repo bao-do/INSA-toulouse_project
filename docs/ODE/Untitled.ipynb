{
 "cells": [
  {
   "cell_type": "code",
   "execution_count": 1,
   "id": "666c7fdf",
   "metadata": {},
   "outputs": [
    {
     "name": "stdout",
     "output_type": "stream",
     "text": [
      "Epoch 1/20\n",
      "\u001b[1m32/32\u001b[0m \u001b[32m━━━━━━━━━━━━━━━━━━━━\u001b[0m\u001b[37m\u001b[0m \u001b[1m1s\u001b[0m 7ms/step - RootMeanSquaredError: 0.8657 - RootMeanSquaredError_1: 0.6057 - loss: 0.7137 - mse_loss: 0.0369 - val_RootMeanSquaredError: 0.7731 - val_RootMeanSquaredError_1: 0.3857 - val_loss: 0.5527 - val_mse_loss: 0.0143\n",
      "Epoch 2/20\n",
      "\u001b[1m32/32\u001b[0m \u001b[32m━━━━━━━━━━━━━━━━━━━━\u001b[0m\u001b[37m\u001b[0m \u001b[1m0s\u001b[0m 2ms/step - RootMeanSquaredError: 0.6885 - RootMeanSquaredError_1: 0.3851 - loss: 0.4415 - mse_loss: 0.0148 - val_RootMeanSquaredError: 0.7094 - val_RootMeanSquaredError_1: 0.3333 - val_loss: 0.4640 - val_mse_loss: 0.0105\n",
      "Epoch 3/20\n",
      "\u001b[1m32/32\u001b[0m \u001b[32m━━━━━━━━━━━━━━━━━━━━\u001b[0m\u001b[37m\u001b[0m \u001b[1m0s\u001b[0m 2ms/step - RootMeanSquaredError: 0.6244 - RootMeanSquaredError_1: 0.3567 - loss: 0.3637 - mse_loss: 0.0127 - val_RootMeanSquaredError: 0.6550 - val_RootMeanSquaredError_1: 0.3224 - val_loss: 0.3965 - val_mse_loss: 0.0099\n",
      "Epoch 4/20\n",
      "\u001b[1m32/32\u001b[0m \u001b[32m━━━━━━━━━━━━━━━━━━━━\u001b[0m\u001b[37m\u001b[0m \u001b[1m0s\u001b[0m 2ms/step - RootMeanSquaredError: 0.5685 - RootMeanSquaredError_1: 0.3243 - loss: 0.3016 - mse_loss: 0.0105 - val_RootMeanSquaredError: 0.6041 - val_RootMeanSquaredError_1: 0.3154 - val_loss: 0.3384 - val_mse_loss: 0.0096\n",
      "Epoch 5/20\n",
      "\u001b[1m32/32\u001b[0m \u001b[32m━━━━━━━━━━━━━━━━━━━━\u001b[0m\u001b[37m\u001b[0m \u001b[1m0s\u001b[0m 2ms/step - RootMeanSquaredError: 0.5448 - RootMeanSquaredError_1: 0.3251 - loss: 0.2782 - mse_loss: 0.0106 - val_RootMeanSquaredError: 0.5572 - val_RootMeanSquaredError_1: 0.3127 - val_loss: 0.2892 - val_mse_loss: 0.0095\n",
      "Epoch 6/20\n",
      "\u001b[1m32/32\u001b[0m \u001b[32m━━━━━━━━━━━━━━━━━━━━\u001b[0m\u001b[37m\u001b[0m \u001b[1m0s\u001b[0m 2ms/step - RootMeanSquaredError: 0.5045 - RootMeanSquaredError_1: 0.3266 - loss: 0.2399 - mse_loss: 0.0107 - val_RootMeanSquaredError: 0.5140 - val_RootMeanSquaredError_1: 0.3095 - val_loss: 0.2473 - val_mse_loss: 0.0094\n",
      "Epoch 7/20\n",
      "\u001b[1m32/32\u001b[0m \u001b[32m━━━━━━━━━━━━━━━━━━━━\u001b[0m\u001b[37m\u001b[0m \u001b[1m0s\u001b[0m 2ms/step - RootMeanSquaredError: 0.4643 - RootMeanSquaredError_1: 0.3227 - loss: 0.2045 - mse_loss: 0.0104 - val_RootMeanSquaredError: 0.4738 - val_RootMeanSquaredError_1: 0.3077 - val_loss: 0.2115 - val_mse_loss: 0.0093\n",
      "Epoch 8/20\n",
      "\u001b[1m32/32\u001b[0m \u001b[32m━━━━━━━━━━━━━━━━━━━━\u001b[0m\u001b[37m\u001b[0m \u001b[1m0s\u001b[0m 2ms/step - RootMeanSquaredError: 0.4418 - RootMeanSquaredError_1: 0.3181 - loss: 0.1862 - mse_loss: 0.0101 - val_RootMeanSquaredError: 0.4414 - val_RootMeanSquaredError_1: 0.3065 - val_loss: 0.1848 - val_mse_loss: 0.0093\n",
      "Epoch 9/20\n",
      "\u001b[1m32/32\u001b[0m \u001b[32m━━━━━━━━━━━━━━━━━━━━\u001b[0m\u001b[37m\u001b[0m \u001b[1m0s\u001b[0m 2ms/step - RootMeanSquaredError: 0.3975 - RootMeanSquaredError_1: 0.3074 - loss: 0.1520 - mse_loss: 0.0095 - val_RootMeanSquaredError: 0.4112 - val_RootMeanSquaredError_1: 0.3037 - val_loss: 0.1614 - val_mse_loss: 0.0091\n",
      "Epoch 10/20\n",
      "\u001b[1m32/32\u001b[0m \u001b[32m━━━━━━━━━━━━━━━━━━━━\u001b[0m\u001b[37m\u001b[0m \u001b[1m0s\u001b[0m 2ms/step - RootMeanSquaredError: 0.3973 - RootMeanSquaredError_1: 0.3135 - loss: 0.1522 - mse_loss: 0.0098 - val_RootMeanSquaredError: 0.3887 - val_RootMeanSquaredError_1: 0.3002 - val_loss: 0.1450 - val_mse_loss: 0.0089\n",
      "Epoch 11/20\n",
      "\u001b[1m32/32\u001b[0m \u001b[32m━━━━━━━━━━━━━━━━━━━━\u001b[0m\u001b[37m\u001b[0m \u001b[1m0s\u001b[0m 2ms/step - RootMeanSquaredError: 0.3693 - RootMeanSquaredError_1: 0.3097 - loss: 0.1324 - mse_loss: 0.0096 - val_RootMeanSquaredError: 0.3652 - val_RootMeanSquaredError_1: 0.2992 - val_loss: 0.1290 - val_mse_loss: 0.0089\n",
      "Epoch 12/20\n",
      "\u001b[1m32/32\u001b[0m \u001b[32m━━━━━━━━━━━━━━━━━━━━\u001b[0m\u001b[37m\u001b[0m \u001b[1m0s\u001b[0m 2ms/step - RootMeanSquaredError: 0.3354 - RootMeanSquaredError_1: 0.2915 - loss: 0.1098 - mse_loss: 0.0085 - val_RootMeanSquaredError: 0.3475 - val_RootMeanSquaredError_1: 0.2975 - val_loss: 0.1175 - val_mse_loss: 0.0088\n",
      "Epoch 13/20\n",
      "\u001b[1m32/32\u001b[0m \u001b[32m━━━━━━━━━━━━━━━━━━━━\u001b[0m\u001b[37m\u001b[0m \u001b[1m0s\u001b[0m 2ms/step - RootMeanSquaredError: 0.3399 - RootMeanSquaredError_1: 0.3132 - loss: 0.1139 - mse_loss: 0.0098 - val_RootMeanSquaredError: 0.3356 - val_RootMeanSquaredError_1: 0.2965 - val_loss: 0.1101 - val_mse_loss: 0.0088\n",
      "Epoch 14/20\n",
      "\u001b[1m32/32\u001b[0m \u001b[32m━━━━━━━━━━━━━━━━━━━━\u001b[0m\u001b[37m\u001b[0m \u001b[1m0s\u001b[0m 2ms/step - RootMeanSquaredError: 0.3136 - RootMeanSquaredError_1: 0.2961 - loss: 0.0974 - mse_loss: 0.0088 - val_RootMeanSquaredError: 0.3236 - val_RootMeanSquaredError_1: 0.2945 - val_loss: 0.1029 - val_mse_loss: 0.0086\n",
      "Epoch 15/20\n",
      "\u001b[1m32/32\u001b[0m \u001b[32m━━━━━━━━━━━━━━━━━━━━\u001b[0m\u001b[37m\u001b[0m \u001b[1m0s\u001b[0m 2ms/step - RootMeanSquaredError: 0.3116 - RootMeanSquaredError_1: 0.3061 - loss: 0.0969 - mse_loss: 0.0094 - val_RootMeanSquaredError: 0.3131 - val_RootMeanSquaredError_1: 0.2937 - val_loss: 0.0968 - val_mse_loss: 0.0086\n",
      "Epoch 16/20\n",
      "\u001b[1m32/32\u001b[0m \u001b[32m━━━━━━━━━━━━━━━━━━━━\u001b[0m\u001b[37m\u001b[0m \u001b[1m0s\u001b[0m 2ms/step - RootMeanSquaredError: 0.3046 - RootMeanSquaredError_1: 0.3003 - loss: 0.0926 - mse_loss: 0.0090 - val_RootMeanSquaredError: 0.3091 - val_RootMeanSquaredError_1: 0.2924 - val_loss: 0.0946 - val_mse_loss: 0.0085\n",
      "Epoch 17/20\n",
      "\u001b[1m32/32\u001b[0m \u001b[32m━━━━━━━━━━━━━━━━━━━━\u001b[0m\u001b[37m\u001b[0m \u001b[1m0s\u001b[0m 2ms/step - RootMeanSquaredError: 0.3022 - RootMeanSquaredError_1: 0.2990 - loss: 0.0911 - mse_loss: 0.0089 - val_RootMeanSquaredError: 0.3003 - val_RootMeanSquaredError_1: 0.2912 - val_loss: 0.0896 - val_mse_loss: 0.0085\n",
      "Epoch 18/20\n",
      "\u001b[1m32/32\u001b[0m \u001b[32m━━━━━━━━━━━━━━━━━━━━\u001b[0m\u001b[37m\u001b[0m \u001b[1m0s\u001b[0m 2ms/step - RootMeanSquaredError: 0.2937 - RootMeanSquaredError_1: 0.2936 - loss: 0.0863 - mse_loss: 0.0086 - val_RootMeanSquaredError: 0.2991 - val_RootMeanSquaredError_1: 0.2908 - val_loss: 0.0890 - val_mse_loss: 0.0084\n",
      "Epoch 19/20\n",
      "\u001b[1m32/32\u001b[0m \u001b[32m━━━━━━━━━━━━━━━━━━━━\u001b[0m\u001b[37m\u001b[0m \u001b[1m0s\u001b[0m 2ms/step - RootMeanSquaredError: 0.2915 - RootMeanSquaredError_1: 0.2928 - loss: 0.0850 - mse_loss: 0.0086 - val_RootMeanSquaredError: 0.2948 - val_RootMeanSquaredError_1: 0.2912 - val_loss: 0.0867 - val_mse_loss: 0.0085\n",
      "Epoch 20/20\n",
      "\u001b[1m32/32\u001b[0m \u001b[32m━━━━━━━━━━━━━━━━━━━━\u001b[0m\u001b[37m\u001b[0m \u001b[1m0s\u001b[0m 2ms/step - RootMeanSquaredError: 0.2905 - RootMeanSquaredError_1: 0.2946 - loss: 0.0846 - mse_loss: 0.0087 - val_RootMeanSquaredError: 0.2919 - val_RootMeanSquaredError_1: 0.2895 - val_loss: 0.0851 - val_mse_loss: 0.0083\n"
     ]
    }
   ],
   "source": [
    "import tensorflow as tf\n",
    "import numpy as np\n",
    "\n",
    "# Define the custom model class\n",
    "class WideAndDeepModel(tf.keras.Model):\n",
    "    def __init__(self, units=30, activation=\"relu\", **kwargs):\n",
    "        super().__init__(**kwargs)\n",
    "        self.norm_layer_wide = tf.keras.layers.Normalization()\n",
    "        self.norm_layer_deep = tf.keras.layers.Normalization()\n",
    "        self.hidden1 = tf.keras.layers.Dense(units, activation=activation)\n",
    "        self.hidden2 = tf.keras.layers.Dense(units, activation=activation)\n",
    "        self.main_output = tf.keras.layers.Dense(1)\n",
    "        self.aux_output = tf.keras.layers.Dense(1)\n",
    "        \n",
    "    def call(self, inputs):\n",
    "        input_wide, input_deep = inputs\n",
    "        norm_wide = self.norm_layer_wide(input_wide)\n",
    "        norm_deep = self.norm_layer_deep(input_deep)\n",
    "        hidden1 = self.hidden1(norm_deep)\n",
    "        hidden2 = self.hidden2(hidden1)\n",
    "        concat = tf.keras.layers.concatenate([norm_wide, hidden2])\n",
    "        output = self.main_output(concat)\n",
    "        aux_output = self.aux_output(hidden2)\n",
    "        return output, aux_output\n",
    "\n",
    "# Create some dummy data (replace this with your actual data)\n",
    "# X_train_wide = np.random.random((1000, 10))\n",
    "# X_train_deep = np.random.random((1000, 5))\n",
    "# y_train = np.random.random((1000, 1))\n",
    "\n",
    "# X_valid_wide = np.random.random((200, 10))\n",
    "# X_valid_deep = np.random.random((200, 5))\n",
    "# y_valid = np.random.random((200, 1))\n",
    "\n",
    "# Instantiate the model\n",
    "model = WideAndDeepModel(30, activation=\"relu\", name=\"my_cool_model\")\n",
    "\n",
    "# Adapt normalization layers with actual data\n",
    "model.norm_layer_wide.adapt(X_train_wide)\n",
    "model.norm_layer_deep.adapt(X_train_deep)\n",
    "\n",
    "# Compile the model\n",
    "optimizer = tf.keras.optimizers.Adam(learning_rate=1e-3)\n",
    "model.compile(loss=(\"mse\", \"mse\"), loss_weights=(0.9, 0.1), \n",
    "              optimizer=optimizer, \n",
    "              metrics=([\"RootMeanSquaredError\"], [\"RootMeanSquaredError\"]))\n",
    "\n",
    "# Train the model\n",
    "history = model.fit((X_train_wide, X_train_deep), \n",
    "                    (y_train, y_train), \n",
    "                    epochs=20, \n",
    "                    validation_data=((X_valid_wide, X_valid_deep), (y_valid, y_valid)))"
   ]
  },
  {
   "cell_type": "code",
   "execution_count": 22,
   "id": "53343d3f",
   "metadata": {},
   "outputs": [
    {
     "name": "stderr",
     "output_type": "stream",
     "text": [
      "C:\\Users\\baolq\\anaconda3\\Lib\\site-packages\\keras\\src\\layers\\core\\dense.py:87: UserWarning: Do not pass an `input_shape`/`input_dim` argument to a layer. When using Sequential models, prefer using an `Input(shape)` object as the first layer in the model instead.\n",
      "  super().__init__(activity_regularizer=activity_regularizer, **kwargs)\n"
     ]
    },
    {
     "ename": "AttributeError",
     "evalue": "module 'tensorflow.keras' has no attribute 'saving'",
     "output_type": "error",
     "traceback": [
      "\u001b[1;31m---------------------------------------------------------------------------\u001b[0m",
      "\u001b[1;31mAttributeError\u001b[0m                            Traceback (most recent call last)",
      "Cell \u001b[1;32mIn[22], line 7\u001b[0m\n\u001b[0;32m      3\u001b[0m model \u001b[38;5;241m=\u001b[39m keras\u001b[38;5;241m.\u001b[39mSequential([\n\u001b[0;32m      4\u001b[0m     keras\u001b[38;5;241m.\u001b[39mlayers\u001b[38;5;241m.\u001b[39mDense(\u001b[38;5;241m5\u001b[39m, input_shape\u001b[38;5;241m=\u001b[39m(\u001b[38;5;241m3\u001b[39m,)),\n\u001b[0;32m      5\u001b[0m     keras\u001b[38;5;241m.\u001b[39mlayers\u001b[38;5;241m.\u001b[39mSoftmax()])\n\u001b[0;32m      6\u001b[0m model\u001b[38;5;241m.\u001b[39msave(\u001b[38;5;124m\"\u001b[39m\u001b[38;5;124mmodel.keras\u001b[39m\u001b[38;5;124m\"\u001b[39m)\n\u001b[1;32m----> 7\u001b[0m loaded_model \u001b[38;5;241m=\u001b[39m keras\u001b[38;5;241m.\u001b[39msaving\u001b[38;5;241m.\u001b[39mload_model(\u001b[38;5;124m\"\u001b[39m\u001b[38;5;124mmodel.keras\u001b[39m\u001b[38;5;124m\"\u001b[39m)\n\u001b[0;32m      8\u001b[0m x \u001b[38;5;241m=\u001b[39m np\u001b[38;5;241m.\u001b[39mrandom\u001b[38;5;241m.\u001b[39mrandom((\u001b[38;5;241m10\u001b[39m, \u001b[38;5;241m3\u001b[39m))\n\u001b[0;32m      9\u001b[0m \u001b[38;5;28;01massert\u001b[39;00m np\u001b[38;5;241m.\u001b[39mallclose(model\u001b[38;5;241m.\u001b[39mpredict(x), loaded_model\u001b[38;5;241m.\u001b[39mpredict(x))\n",
      "\u001b[1;31mAttributeError\u001b[0m: module 'tensorflow.keras' has no attribute 'saving'"
     ]
    }
   ],
   "source": [
    "import tensorflow.keras as keras\n",
    "\n",
    "model = keras.Sequential([\n",
    "    keras.layers.Dense(5, input_shape=(3,)),\n",
    "    keras.layers.Softmax()])\n",
    "model.save(\"model.keras\")\n",
    "loaded_model = keras.saving.load_model(\"model.keras\")\n",
    "x = np.random.random((10, 3))\n",
    "assert np.allclose(model.predict(x), loaded_model.predict(x))"
   ]
  },
  {
   "cell_type": "code",
   "execution_count": 18,
   "id": "7e269df9",
   "metadata": {},
   "outputs": [],
   "source": [
    "model = tf.saved_model.load('my_keras_model')"
   ]
  },
  {
   "cell_type": "code",
   "execution_count": 19,
   "id": "72b60c9b",
   "metadata": {},
   "outputs": [
    {
     "ename": "AttributeError",
     "evalue": "'_UserObject' object has no attribute 'predict'",
     "output_type": "error",
     "traceback": [
      "\u001b[1;31m---------------------------------------------------------------------------\u001b[0m",
      "\u001b[1;31mAttributeError\u001b[0m                            Traceback (most recent call last)",
      "Cell \u001b[1;32mIn[19], line 1\u001b[0m\n\u001b[1;32m----> 1\u001b[0m y_pred_main, y_pred_aux \u001b[38;5;241m=\u001b[39m model\u001b[38;5;241m.\u001b[39mpredict((X_new_wide,X_new_deep))\n",
      "\u001b[1;31mAttributeError\u001b[0m: '_UserObject' object has no attribute 'predict'"
     ]
    }
   ],
   "source": [
    "y_pred_main, y_pred_aux = model.predict((X_new_wide,X_new_deep))"
   ]
  },
  {
   "cell_type": "code",
   "execution_count": 20,
   "id": "e4ce5d57",
   "metadata": {},
   "outputs": [
    {
     "ename": "NameError",
     "evalue": "name 'X_new_wide' is not defined",
     "output_type": "error",
     "traceback": [
      "\u001b[1;31m---------------------------------------------------------------------------\u001b[0m",
      "\u001b[1;31mNameError\u001b[0m                                 Traceback (most recent call last)",
      "Cell \u001b[1;32mIn[20], line 1\u001b[0m\n\u001b[1;32m----> 1\u001b[0m X_new_wide\n",
      "\u001b[1;31mNameError\u001b[0m: name 'X_new_wide' is not defined"
     ]
    }
   ],
   "source": [
    "X_new_wide"
   ]
  },
  {
   "cell_type": "code",
   "execution_count": 1,
   "id": "ef886f69",
   "metadata": {},
   "outputs": [
    {
     "name": "stdout",
     "output_type": "stream",
     "text": [
      "Name: keras-tuner\n",
      "Version: 1.4.7\n",
      "Summary: A Hyperparameter Tuning Library for Keras\n",
      "Home-page: https://github.com/keras-team/keras-tuner\n",
      "Author: The KerasTuner authors\n",
      "Author-email: \n",
      "License: Apache License 2.0\n",
      "Location: c:\\users\\baolq\\appdata\\roaming\\python\\python310\\site-packages\n",
      "Requires: keras, kt-legacy, packaging, requests\n",
      "Required-by: \n"
     ]
    }
   ],
   "source": [
    "!pip show keras_tuner"
   ]
  },
  {
   "cell_type": "code",
   "execution_count": 2,
   "id": "35ceda69",
   "metadata": {},
   "outputs": [],
   "source": [
    "import keras_tuner"
   ]
  },
  {
   "cell_type": "code",
   "execution_count": 1,
   "id": "d397ff47",
   "metadata": {},
   "outputs": [
    {
     "name": "stdout",
     "output_type": "stream",
     "text": [
      "C:\\Users\\baolq\\anaconda3\\python.exe\n"
     ]
    }
   ],
   "source": [
    "import sys\n",
    "print(sys.executable)\n"
   ]
  },
  {
   "cell_type": "code",
   "execution_count": null,
   "id": "8edf8279",
   "metadata": {},
   "outputs": [],
   "source": []
  }
 ],
 "metadata": {
  "kernelspec": {
   "display_name": "Python 3 (ipykernel)",
   "language": "python",
   "name": "python3"
  },
  "language_info": {
   "codemirror_mode": {
    "name": "ipython",
    "version": 3
   },
   "file_extension": ".py",
   "mimetype": "text/x-python",
   "name": "python",
   "nbconvert_exporter": "python",
   "pygments_lexer": "ipython3",
   "version": "3.11.5"
  }
 },
 "nbformat": 4,
 "nbformat_minor": 5
}
